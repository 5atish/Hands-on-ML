{
 "cells": [
  {
   "cell_type": "markdown",
   "metadata": {},
   "source": [
    "## Linear Regression "
   ]
  },
  {
   "cell_type": "markdown",
   "metadata": {},
   "source": [
    "####### Linear regression model makes prediction by simply computing a weighted sum of the input features, plus a constant called the bias term (also called the intercept term).\n",
    "\n",
    "####### Y^ = Øo + Ø1X1 + Ø2X2 + ... + ØnXn\n",
    "\n",
    "####### Y^ --> is predicted value\n",
    "####### n --> is number of features\n",
    "####### Xi --> is number of features\n",
    "####### Øo --> is the bias or intercept term\n",
    "####### Øj --> is the j'th model parameter\n",
    "\n",
    "####### Training a model means setting its parameters so that the model best fits the training set. For this purpose, we first need a measure of how well (or poorly) the model fits the training data. the most common performance measure of a regression model is the Root Mean Square Error (RMSE).\n",
    "\n",
    "####### To train Linear regression model, first we need to find the values of Ø that minimize the MSE(Mean Square Error) that leads to minimize RMSE(Root Mean Square Error)"
   ]
  },
  {
   "cell_type": "markdown",
   "metadata": {},
   "source": [
    "####### Let's generate Linear looking data to test the equation"
   ]
  },
  {
   "cell_type": "code",
   "execution_count": 8,
   "metadata": {},
   "outputs": [],
   "source": [
    "import numpy as np\n",
    "\n",
    "x = 2 * np.random.rand(100, 1)\n",
    "y = 4 + 3 * x + np.random.rand(100,1)\n",
    "\n",
    "x_new = np.array([[0], [2]])"
   ]
  },
  {
   "cell_type": "code",
   "execution_count": 9,
   "metadata": {},
   "outputs": [
    {
     "data": {
      "image/png": "[encoded data removed]",
      "text/plain": [
       "<Figure size 432x288 with 1 Axes>"
      ]
     },
     "metadata": {
      "needs_background": "light"
     },
     "output_type": "display_data"
    }
   ],
   "source": [
    "import matplotlib.pyplot as plt\n",
    "\n",
    "plt.plot(x,y,\"b.\")\n",
    "plt.xlabel(\"$x_1$\", fontsize=18)\n",
    "plt.ylabel(\"$y$\", rotation=0, fontsize=18)\n",
    "plt.axis([0, 2, 0, 15])\n",
    "plt.show()"
   ]
  },
  {
   "cell_type": "markdown",
   "metadata": {},
   "source": [
    "#### The Normal Equation"
   ]
  },
  {
   "cell_type": "markdown",
   "metadata": {},
   "source": [
    "####### To find the value of θ that minimizes the cost function, there is a closed-form solution, in other words,\n",
    "a mathematical equation that gives the result directly. This is called the Normal Equation.\n",
    "\n",
    "####### θ^ = (X^T . X)^-1 . X^T . y\n",
    "\n",
    "####### θ^ -> is the value of θ that minimizes the cost function\n",
    "####### y  -> is the vector of target value from 1 to m"
   ]
  },
  {
   "cell_type": "markdown",
   "metadata": {},
   "source": [
    "####### Let's compute the θ^ using Normal equation"
   ]
  },
  {
   "cell_type": "code",
   "execution_count": 11,
   "metadata": {},
   "outputs": [
    {
     "data": {
      "text/plain": [
       "(100, 2)"
      ]
     },
     "execution_count": 11,
     "metadata": {},
     "output_type": "execute_result"
    }
   ],
   "source": [
    "x_b = np.c_[np.ones((100, 1)), x] ## add X0 to each instance\n",
    "x_b.shape"
   ]
  },
  {
   "cell_type": "markdown",
   "metadata": {},
   "source": [
    "####### we use the inv() function to compute the inverse of a matrix & dot() method for matrix multiplication"
   ]
  },
  {
   "cell_type": "code",
   "execution_count": 13,
   "metadata": {},
   "outputs": [],
   "source": [
    "theta_best = np.linalg.inv(x_b.T.dot(x_b)).dot(x_b.T).dot(y)\n",
    "# theta_best"
   ]
  },
  {
   "cell_type": "markdown",
   "metadata": {},
   "source": [
    "####### Now make prediction using θ^"
   ]
  },
  {
   "cell_type": "code",
   "execution_count": 14,
   "metadata": {},
   "outputs": [],
   "source": [
    "x_new = np.array([[0], [2]])\n",
    "x_new_b = np.c_[np.ones((2,1)), x_new]\n",
    "y_predict = x_new_b.dot(theta_best)"
   ]
  },
  {
   "cell_type": "code",
   "execution_count": 15,
   "metadata": {},
   "outputs": [
    {
     "data": {
      "text/plain": [
       "array([[ 4.53359262],\n",
       "       [10.44009854]])"
      ]
     },
     "execution_count": 15,
     "metadata": {},
     "output_type": "execute_result"
    }
   ],
   "source": [
    "y_predict"
   ]
  },
  {
   "cell_type": "markdown",
   "metadata": {},
   "source": [
    "####### Let's plot the model prediction"
   ]
  },
  {
   "cell_type": "code",
   "execution_count": 16,
   "metadata": {},
   "outputs": [
    {
     "data": {
      "image/png": "[encoded data removed]",
      "text/plain": [
       "<Figure size 432x288 with 1 Axes>"
      ]
     },
     "metadata": {
      "needs_background": "light"
     },
     "output_type": "display_data"
    }
   ],
   "source": [
    "plt.plot(x_new,y_predict,\"r-\")\n",
    "plt.plot(x,y,\"b.\")\n",
    "plt.axis([0, 2, 0, 15])\n",
    "plt.show()"
   ]
  },
  {
   "cell_type": "markdown",
   "metadata": {},
   "source": [
    "####### Let's use Linear regression from scikit learn to make prediction"
   ]
  },
  {
   "cell_type": "code",
   "execution_count": 21,
   "metadata": {},
   "outputs": [
    {
     "data": {
      "text/plain": [
       "LinearRegression(copy_X=True, fit_intercept=True, n_jobs=None, normalize=False)"
      ]
     },
     "execution_count": 21,
     "metadata": {},
     "output_type": "execute_result"
    }
   ],
   "source": [
    "from sklearn.linear_model import LinearRegression\n",
    "\n",
    "lin_reg = LinearRegression()\n",
    "lin_reg.fit(x,y)"
   ]
  },
  {
   "cell_type": "code",
   "execution_count": 22,
   "metadata": {},
   "outputs": [
    {
     "data": {
      "text/plain": [
       "array([4.53359262])"
      ]
     },
     "execution_count": 22,
     "metadata": {},
     "output_type": "execute_result"
    }
   ],
   "source": [
    "lin_reg.intercept_"
   ]
  },
  {
   "cell_type": "code",
   "execution_count": 23,
   "metadata": {},
   "outputs": [
    {
     "data": {
      "text/plain": [
       "array([[2.95325296]])"
      ]
     },
     "execution_count": 23,
     "metadata": {},
     "output_type": "execute_result"
    }
   ],
   "source": [
    "lin_reg.coef_"
   ]
  },
  {
   "cell_type": "code",
   "execution_count": 24,
   "metadata": {},
   "outputs": [
    {
     "data": {
      "text/plain": [
       "array([[ 4.53359262],\n",
       "       [10.44009854]])"
      ]
     },
     "execution_count": 24,
     "metadata": {},
     "output_type": "execute_result"
    }
   ],
   "source": [
    "lin_reg.predict(x_new)"
   ]
  },
  {
   "cell_type": "markdown",
   "metadata": {},
   "source": [
    "### Gradient Descent"
   ]
  },
  {
   "cell_type": "markdown",
   "metadata": {},
   "source": [
    "####### Gradient Descent is a very generic optimization algorithm capable of finding optimal solutions to a wide\n",
    "range of problems. The general idea of Gradient Descent is to tweak parameters iteratively in order to\n",
    "minimize a cost function.\n",
    "\n",
    "####### it measures the local gradient of the error function with regards to the parameter vector. it goes in the direction of descending gradient. Once the gradient is zero, you have reached a minimum!\n",
    "\n",
    "####### Concretely, you start by filling θ with random values (this is called random initialization), and then you\n",
    "improve it gradually, taking one baby step at a time, each step attempting to decrease the cost function (e.g., the MSE), until the algorithm converges to a minimum.\n",
    "\n",
    "####### An important parameter in Gradient Descent is the size of the steps, determined by the learning rate hyperparameter.\n",
    "####### If the learning rate is too small, then the algorithm will have to go through many iterations to converge, which will take a long time\n",
    "####### On the other hand, if the learning rate is too high This might make the algorithm diverge, with larger\n",
    "and larger values, failing to find a good solution\n",
    "\n",
    "####### the main challenges with Gradient Descen\n",
    "####### not all cost functions look like nice regular bowls, There may be holes, ridges, plateaus, and all sorts of irregular terrains, making convergence to the minimum very difficult.\n",
    "\n",
    "####### Fortunately, the MSE cost function for a Linear Regression model happens to be a convex function, which\n",
    "means that if you pick any two points on the curve, the line segment joining them never crosses the curve. This implies that there are no local minima, just one global minimum."
   ]
  },
  {
   "cell_type": "markdown",
   "metadata": {},
   "source": [
    "### Batch Gradient Descent"
   ]
  },
  {
   "cell_type": "markdown",
   "metadata": {},
   "source": [
    "####### To calculate how much the cost function will change if we change just a little bit. This is called a partial derivative.\n",
    "####### It is like asking “what is the slope of the mountain under my feet if I face east?” and then asking the same question facing north (and so on for all other dimensions). computes the partial derivative of the cost function with regards to parameter.\n",
    "####### Instead of computing these partial derivatives individually, compute them all in one go. The gradient vector, contains all the partial derivatives of the cost function (one for each model parameter).\n",
    "####### this involves calculations over the full training set X, at each Gradient Descent step. This is why the algorithm is called Batch Gradient Descent. it uses the whole batch of training data at every step. As a result it is terribly slow on very large training sets."
   ]
  },
  {
   "cell_type": "code",
   "execution_count": 26,
   "metadata": {},
   "outputs": [],
   "source": [
    "eta = 0.1 ### learning rate\n",
    "n_iteration = 1000\n",
    "m = 100\n",
    "\n",
    "theta = np.random.randn(2,1) ## random intialization \n",
    "\n",
    "for interation in range(n_iteration):\n",
    "    gradients = 2/m *x_b.T.dot(x_b.dot(theta) - y)\n",
    "    theta = theta - eta * gradients"
   ]
  },
  {
   "cell_type": "code",
   "execution_count": 27,
   "metadata": {},
   "outputs": [
    {
     "data": {
      "text/plain": [
       "array([[4.53359262],\n",
       "       [2.95325296]])"
      ]
     },
     "execution_count": 27,
     "metadata": {},
     "output_type": "execute_result"
    }
   ],
   "source": [
    "theta"
   ]
  },
  {
   "cell_type": "markdown",
   "metadata": {},
   "source": [
    "####### Exactly as normal equation has found values for θ\n",
    "####### Gradient Descent work perfectly"
   ]
  },
  {
   "cell_type": "markdown",
   "metadata": {},
   "source": [
    "### Stochastic Gradient Descent"
   ]
  },
  {
   "cell_type": "markdown",
   "metadata": {},
   "source": [
    "####### The main problem with Batch Gradient Descent is the fact that it uses the whole training set to compute the gradients at every step, which makes it very slow when the training set is large.\n",
    "\n",
    "####### Stochastic Gradient Descent just picks a random instance in the training set at every step and computes the gradients based only on that single instance.\n",
    "####### this makes the algorithm much faster since it has very little data to manipulate at every iteration.It also makes it possible to train on huge training sets, as only one instance needs to be in memory at each iteration.\n",
    "\n",
    "####### Due to its stochastic (i.e., random) nature, this algorithm is much less regular than Batch Gradient Descent. Instead of gently decreasing until it reaches the minimum, the cost function will bounce up and down, decreasing only on average. Over time it will end up very close to the minimum, but once it gets there it will continue to bounce around, So once the algorithm stops, the final parameter values are good, but not optimal."
   ]
  },
  {
   "cell_type": "markdown",
   "metadata": {},
   "source": [
    "####### Let's implement Stochastic Gradient Descent using a simple learning scheduler"
   ]
  },
  {
   "cell_type": "code",
   "execution_count": 28,
   "metadata": {},
   "outputs": [
    {
     "data": {
      "text/plain": [
       "array([[4.5349652 ],\n",
       "       [2.96950152]])"
      ]
     },
     "execution_count": 28,
     "metadata": {},
     "output_type": "execute_result"
    }
   ],
   "source": [
    "n_epoch = 50 ### epoch is each iteration round\n",
    "t0, t1 = 5, 50\n",
    "\n",
    "def learning_scheduler(t):\n",
    "    return t0 / (t + t1)\n",
    "\n",
    "theta = np.random.randn(2, 1) ### random initialization\n",
    "\n",
    "for epoch in range(n_epoch):\n",
    "    for i in range(m):       #### iterate by rounds of m iterations\n",
    "        random_index = np.random.randint(m)\n",
    "        xi = x_b[random_index:random_index+1]\n",
    "        yi = y[random_index:random_index+1]\n",
    "        gradients = 2 * xi.T.dot(xi.dot(theta) - yi)\n",
    "        eta = learning_scheduler(epoch * m + i)\n",
    "        theta = theta - eta * gradients\n",
    "        \n",
    "theta"
   ]
  },
  {
   "cell_type": "markdown",
   "metadata": {},
   "source": [
    "####### the Batch Gradient Descent code iterated 1,000 times through the whole training set.\n",
    "####### Stochastic Gradient Descent code goes through the training set only 50 times and reaches a fairly good solution."
   ]
  },
  {
   "cell_type": "markdown",
   "metadata": {},
   "source": [
    "####### let's check performance of  Linear Regression using SGD with Scikit-Learn, & use of the SGDRegressor class, which defaults to optimizing the squared error cost function."
   ]
  },
  {
   "cell_type": "code",
   "execution_count": 29,
   "metadata": {},
   "outputs": [
    {
     "data": {
      "text/plain": [
       "SGDRegressor(alpha=0.0001, average=False, early_stopping=False, epsilon=0.1,\n",
       "             eta0=0.1, fit_intercept=True, l1_ratio=0.15,\n",
       "             learning_rate='invscaling', loss='squared_loss', max_iter=50,\n",
       "             n_iter_no_change=5, penalty=None, power_t=0.25, random_state=43,\n",
       "             shuffle=True, tol=-inf, validation_fraction=0.1, verbose=0,\n",
       "             warm_start=False)"
      ]
     },
     "execution_count": 29,
     "metadata": {},
     "output_type": "execute_result"
    }
   ],
   "source": [
    "from sklearn.linear_model import SGDRegressor\n",
    "\n",
    "#### we run 50 epochs, starting with a learning rate of 0.1 (eta0=0.1), using the default learning schedule\n",
    "### No use any regularization (penalty=None)\n",
    "sgd_reg = SGDRegressor(max_iter=50, penalty=None, eta0=0.1, tol=-np.infty, random_state=43) \n",
    "sgd_reg.fit(x, y.ravel())"
   ]
  },
  {
   "cell_type": "code",
   "execution_count": 30,
   "metadata": {},
   "outputs": [
    {
     "data": {
      "text/plain": [
       "(array([4.55306453]), array([2.96267621]))"
      ]
     },
     "execution_count": 30,
     "metadata": {},
     "output_type": "execute_result"
    }
   ],
   "source": [
    "sgd_reg.intercept_, sgd_reg.coef_"
   ]
  },
  {
   "cell_type": "markdown",
   "metadata": {},
   "source": [
    "####### Solution is same as the Normal Equation"
   ]
  },
  {
   "cell_type": "markdown",
   "metadata": {},
   "source": [
    "### Mini-batch Gradient Descent"
   ]
  },
  {
   "cell_type": "markdown",
   "metadata": {},
   "source": [
    "####### Mini-batch Gradient Descent compute the gradients based on the full training set (as in Batch GD) or based on just one instance (as in Stochastic GD), Mini-batch GD computes the gradients on small random sets of instances called minibatches.\n",
    "\n",
    "####### The main advantage of Mini-batch GD over Stochastic GD is that you can get a performance boost from hardware optimization of matrix operations, especially when using GPUs."
   ]
  },
  {
   "cell_type": "markdown",
   "metadata": {},
   "source": [
    "### Polynomial Regression"
   ]
  },
  {
   "cell_type": "markdown",
   "metadata": {},
   "source": [
    "####### If data is actually more complex than a simple straight line, then can use a linear model to fit nonlinear data by adding powers of each feature as new features, then train a linear model on this extended set of features. This technique is called Polynomial Regression.\n",
    "\n",
    "####### Let's generate some Nonlinear data based on quadtratic equation Y = 0.5X^2 + X + 2 + Gaussion noise"
   ]
  },
  {
   "cell_type": "code",
   "execution_count": 45,
   "metadata": {},
   "outputs": [],
   "source": [
    "m = 100\n",
    "x = 6 * np.random.rand(m, 1)-3\n",
    "y = 0.5 * x**2 + x + 2 + np.random.rand(m,1)"
   ]
  },
  {
   "cell_type": "code",
   "execution_count": 46,
   "metadata": {},
   "outputs": [
    {
     "data": {
      "image/png": "[encoded data removed]",
      "text/plain": [
       "<Figure size 432x288 with 1 Axes>"
      ]
     },
     "metadata": {
      "needs_background": "light"
     },
     "output_type": "display_data"
    }
   ],
   "source": [
    "plt.plot(x,y,\"b.\")\n",
    "plt.xlabel(\"$x1$\", fontsize=18)\n",
    "plt.ylabel(\"$y$\", rotation=0, fontsize=18)\n",
    "plt.axis([-3, 3, 0, 10])\n",
    "plt.show()"
   ]
  },
  {
   "cell_type": "markdown",
   "metadata": {},
   "source": [
    "####### From above diagram, straight will never fit this data properly\n",
    "\n",
    "####### let’s use Scikit-Learn’s PolynomialFeatures class to transform the training data & adding the square (2nd-degree polynomial) of each feature in the training set as new features"
   ]
  },
  {
   "cell_type": "code",
   "execution_count": 52,
   "metadata": {},
   "outputs": [
    {
     "data": {
      "text/plain": [
       "array([2.56957181, 6.60269927])"
      ]
     },
     "execution_count": 52,
     "metadata": {},
     "output_type": "execute_result"
    }
   ],
   "source": [
    "from sklearn.preprocessing import PolynomialFeatures\n",
    "\n",
    "poly_features = PolynomialFeatures(degree=2, include_bias=False)\n",
    "x_poly = poly_features.fit_transform(x)\n",
    "x[0]\n",
    "x_poly[0]"
   ]
  },
  {
   "cell_type": "markdown",
   "metadata": {},
   "source": [
    "####### Now x_poly contains the original feature of X plus the square of this feature.\n",
    "\n",
    "####### Let's fit LinearRegression model to this extended training data"
   ]
  },
  {
   "cell_type": "code",
   "execution_count": 73,
   "metadata": {},
   "outputs": [
    {
     "data": {
      "text/plain": [
       "array([2.43202242])"
      ]
     },
     "execution_count": 73,
     "metadata": {},
     "output_type": "execute_result"
    }
   ],
   "source": [
    "lin_reg = LinearRegression()\n",
    "lin_reg.fit(x_poly, y)\n",
    "lin_reg.intercept_"
   ]
  },
  {
   "cell_type": "code",
   "execution_count": 74,
   "metadata": {},
   "outputs": [
    {
     "data": {
      "text/plain": [
       "array([[1.03788783, 0.49485432]])"
      ]
     },
     "execution_count": 74,
     "metadata": {},
     "output_type": "execute_result"
    }
   ],
   "source": [
    "lin_reg.coef_"
   ]
  },
  {
   "cell_type": "code",
   "execution_count": 75,
   "metadata": {},
   "outputs": [],
   "source": [
    "x_new=np.linspace(-3, 3, 100).reshape(100, 1)\n",
    "x_new_poly = poly_features.transform(x_new)\n",
    "y_predict = lin_reg.predict(x_new_poly)"
   ]
  },
  {
   "cell_type": "code",
   "execution_count": 77,
   "metadata": {},
   "outputs": [
    {
     "name": "stderr",
     "output_type": "stream",
     "text": [
      "No handles with labels found to put in legend.\n"
     ]
    },
    {
     "data": {
      "image/png": "[encoded data removed]",
      "text/plain": [
       "<Figure size 432x288 with 1 Axes>"
      ]
     },
     "metadata": {
      "needs_background": "light"
     },
     "output_type": "display_data"
    }
   ],
   "source": [
    "plt.plot(x,y,\"b.\")\n",
    "plt.plot(x_new, y_predict)\n",
    "plt.xlabel(\"$x1$\", fontsize=18)\n",
    "plt.ylabel(\"$y$\", rotation=0, fontsize=18)\n",
    "plt.axis([-3, 3, 0, 10])\n",
    "plt.legend(loc=\"upper left\", fontsize=14)\n",
    "plt.show()"
   ]
  },
  {
   "cell_type": "markdown",
   "metadata": {},
   "source": [
    "####### when there are multiple features, Polynomial Regression is capable of finding relationships between features which is something a plain Linear Regression model cannot do.\n",
    "\n",
    "####### This is made possible by the fact that PolynomialFeatures also adds all combinations of features up to the given degree, e.g. if there were two features a and b, PolynomialFeatures with degree=3 would not only add\n",
    "the features a2, a3, b2, and b3, but also the combinations ab, a2b, and ab2."
   ]
  },
  {
   "cell_type": "markdown",
   "metadata": {},
   "source": [
    "#### Learning Curves"
   ]
  },
  {
   "cell_type": "markdown",
   "metadata": {},
   "source": [
    "####### cross-validation is to get an estimate of a model’s generalization performance. If a model performs well on the training data but generalizes poorly according to the cross-validation metrics, then your model is overfitting. If it performs poorly on both, then it is underfitting. This is one way to tell when a model is too simple or too complex.\n",
    "\n",
    "####### Another way is to look at the learning curves, these are plots of the model’s performance on the training\n",
    "set and the validation set as a function of the training set size.\n",
    "\n",
    "####### To generate the plots, simply train the model several times on different sized subsets of the training set.\n",
    "\n",
    "####### following code defines a function that plots the learning curves of a model given some training data."
   ]
  },
  {
   "cell_type": "code",
   "execution_count": 85,
   "metadata": {},
   "outputs": [],
   "source": [
    "from sklearn.metrics import mean_squared_error\n",
    "from sklearn.model_selection import train_test_split\n",
    "\n",
    "def plot_learning_curve(model, x, y):\n",
    "    x_train, x_val, y_train, y_val = train_test_split(x, y, test_size=0.2)\n",
    "    train_errors, val_errors = [], []\n",
    "    for m in range(1, len(x_train)):\n",
    "        model.fit(x_train[:m], y_train[:m])\n",
    "        y_train_predict = model.predict(x_train[:m])\n",
    "        y_val_predict = model.predict(x_val)\n",
    "        train_errors.append(mean_squared_error(y_train_predict, y_train[:m]))\n",
    "        val_errors.append(mean_squared_error(y_val_predict, y_val))\n",
    "        \n",
    "    plt.plot(np.sqrt(train_errors), \"r-+\", linewidth=2, label=\"train\")\n",
    "    plt.plot(np.sqrt(val_errors), \"b-\", linewidth=2, label=\"val\")\n",
    "    plt.legend(loc=\"upper right\", fontsize=14)   \n",
    "    plt.xlabel(\"Training set size\", fontsize=14) \n",
    "    plt.ylabel(\"RMSE\", fontsize=14)              "
   ]
  },
  {
   "cell_type": "markdown",
   "metadata": {},
   "source": [
    "####### Now, let's look at the learning curves of the plain Linear Regression model"
   ]
  },
  {
   "cell_type": "code",
   "execution_count": 87,
   "metadata": {},
   "outputs": [
    {
     "data": {
      "image/png": "[encoded data removed]",
      "text/plain": [
       "<Figure size 432x288 with 1 Axes>"
      ]
     },
     "metadata": {
      "needs_background": "light"
     },
     "output_type": "display_data"
    }
   ],
   "source": [
    "lin_reg = LinearRegression()\n",
    "plot_learning_curve(lin_reg, x, y)\n",
    "plt.axis([0, 80, 0, 3])                         \n",
    "plt.show()  "
   ]
  },
  {
   "cell_type": "markdown",
   "metadata": {},
   "source": [
    "####### First, let’s look at the performance on the training data.\n",
    "####### when there are just one or two instances in the training set, the model can fit them perfectly, which is why the curve starts at zero. \n",
    "####### But as new instances are added to the training set, it becomes impossible for the model to fit the training data perfectly, both because the data is noisy and because it is not linear at all. \n",
    "####### So the error on the training data goes up until it reaches a plateau, at which point adding new instances to the training set doesn’t make the average error much better or worse.\n",
    "\n",
    "####### Now let’s look at the performance of the model on the validation data\n",
    "####### When the model is trained on very few training instances, it is incapable of generalizing properly, which is why the validation error is initially quite big.\n",
    "####### Then as the model is shown more training examples, it learns and thus the validation error slowly goes down.\n",
    "####### again a straight line cannot do a good job modeling the data, so the error ends up at a plateau, very close to the other curve.\n",
    "\n",
    "####### These learning curves are typical of an underfitting model. Both curves have reached a plateau; they are\n",
    "close and fairly high."
   ]
  },
  {
   "cell_type": "markdown",
   "metadata": {},
   "source": [
    "####### let's check the learning curves of a 10th-degree polynomial model on the same data"
   ]
  },
  {
   "cell_type": "code",
   "execution_count": 104,
   "metadata": {},
   "outputs": [],
   "source": [
    "from sklearn.pipeline import Pipeline\n",
    "\n",
    "polynomial_regression = Pipeline((\n",
    "    (\"Poly_features\", PolynomialFeatures(degree=10, include_bias=False)),\n",
    "    (\"lin_reg\", LinearRegression())\n",
    "    ))"
   ]
  },
  {
   "cell_type": "code",
   "execution_count": 105,
   "metadata": {},
   "outputs": [
    {
     "data": {
      "image/png": "[encoded data removed]",
      "text/plain": [
       "<Figure size 432x288 with 1 Axes>"
      ]
     },
     "metadata": {
      "needs_background": "light"
     },
     "output_type": "display_data"
    }
   ],
   "source": [
    "plot_learning_curve(polynomial_regression, x, y)\n",
    "plt.axis([0, 80, 0, 3])           \n",
    "plt.show()                        "
   ]
  },
  {
   "cell_type": "markdown",
   "metadata": {},
   "source": [
    "####### The error on the training data is much lower than with the Linear Regression model\n",
    "\n",
    "####### There is a gap between the curves. This means that the model performs significantly better on the training data than on the validation data, which is the hallmark of an overfitting model.\n",
    "\n",
    "####### if you used a much larger training set, the two curves would continue to get closer."
   ]
  },
  {
   "cell_type": "markdown",
   "metadata": {},
   "source": [
    "####### let's check the learning curves of a 2nd-degree polynomial model on the same data"
   ]
  },
  {
   "cell_type": "code",
   "execution_count": 106,
   "metadata": {},
   "outputs": [
    {
     "data": {
      "image/png": "[encoded data removed]",
      "text/plain": [
       "<Figure size 432x288 with 1 Axes>"
      ]
     },
     "metadata": {
      "needs_background": "light"
     },
     "output_type": "display_data"
    }
   ],
   "source": [
    "from sklearn.pipeline import Pipeline\n",
    "\n",
    "polynomial_regression = Pipeline((\n",
    "    (\"Poly_features\", PolynomialFeatures(degree=2, include_bias=False)),\n",
    "    (\"lin_reg\", LinearRegression())\n",
    "    ))\n",
    "\n",
    "plot_learning_curve(polynomial_regression, x, y)\n",
    "plt.axis([0, 80, 0, 3])           \n",
    "plt.show()        "
   ]
  },
  {
   "cell_type": "markdown",
   "metadata": {},
   "source": [
    "####### There is quite small gap between training and validation error, though it get's close eventually\n",
    "\n",
    "####### 2nd degree polynomial fit well, as data is derive from it."
   ]
  },
  {
   "cell_type": "markdown",
   "metadata": {},
   "source": [
    "## Regularized Linear Models"
   ]
  },
  {
   "cell_type": "markdown",
   "metadata": {},
   "source": [
    "####### A good way to reduce overfitting is to regularize the model (i.e., to constrain it). The fewer degrees of freedom it has, the harder it will be for it to overfit the data\n",
    "####### a simple way to regularize a polynomial model is to reduce the number of polynomial degrees.\n",
    "####### For a linear model, regularization is typically achieved by constraining the weights of the model"
   ]
  },
  {
   "cell_type": "markdown",
   "metadata": {},
   "source": [
    "#### Ridge Regression"
   ]
  },
  {
   "cell_type": "markdown",
   "metadata": {},
   "source": [
    "####### Ridge Regression (also called Tikhonov regularization) is a regularized version of Linear Regression.\n",
    "####### regularization term (α∑θi^2 for i= 1...n) equal to is added to the cost function, whcih forces the learning algorithm to not only fit the data but also keep the model weights as small as possible.\n",
    "####### Note that the regularization term should only be added to the cost function during training. Once the model is trained, you want to evaluate the model’s performance using the unregularized performance measure.\n",
    "\n",
    "####### The hyperparameter α controls how much you want to regularize the model.\n",
    "####### If α = 0 then Ridge Regression is just Linear Regression.\n",
    "####### If α is very large, then all weights end up very close to zero and the result is a flat line going through the data’s mean.\n",
    "\n",
    "####### the Ridge Regression cost function is     J(θ) = MSE(θ) + (1/2) α∑θi^2      for i= 1...n\n",
    "####### Note that the bias term θ0 is not regularized (the sum starts at i = 1, not 0).\n",
    "\n",
    "####### It is important to scale the data (e.g., using a StandardScaler) before performing Ridge Regression, as it is sensitive to the scale of the input features."
   ]
  },
  {
   "cell_type": "markdown",
   "metadata": {},
   "source": [
    "####### Let's perform Ridge Regression with Scikit-Learn using a matrix factorization technique by André-Louis Cholesky"
   ]
  },
  {
   "cell_type": "code",
   "execution_count": 118,
   "metadata": {},
   "outputs": [
    {
     "data": {
      "text/plain": [
       "array([[5.36839017]])"
      ]
     },
     "execution_count": 118,
     "metadata": {},
     "output_type": "execute_result"
    }
   ],
   "source": [
    "from sklearn.linear_model import Ridge\n",
    "\n",
    "ridge_reg = Ridge(alpha=1, solver=\"cholesky\")\n",
    "ridge_reg.fit(x, y)\n",
    "ridge_reg.predict([[1.5]])"
   ]
  },
  {
   "cell_type": "markdown",
   "metadata": {},
   "source": [
    "#### Lasso Regression"
   ]
  },
  {
   "cell_type": "markdown",
   "metadata": {},
   "source": [
    "####### Least Absolute Shrinkage and Selection Operator Regression (simply called Lasso Regression) is another regularized version of Linear Regression.\n",
    "\n",
    "####### Lasso adds a regularization term to the cost function, but it uses the ℓ1 norm of the weight vector instead of half the square of the ℓ2 norm\n",
    "\n",
    "####### Lasso Regression cost function is     J(θ) = MSE(θ) + α∑|θi|         for i= 1...n\n",
    "\n",
    "\n",
    "####### An important characteristic of Lasso Regression is that it tends to completely eliminate the weights of the\n",
    "least important features i.e. Lasso Regression automatically performs feature selection and outputs a\n",
    "sparse model (i.e., with few nonzero feature weights).\n",
    "\n",
    "####### let's check small Scikit-Learn example using the Lasso class"
   ]
  },
  {
   "cell_type": "code",
   "execution_count": 119,
   "metadata": {},
   "outputs": [
    {
     "data": {
      "text/plain": [
       "array([5.32068237])"
      ]
     },
     "execution_count": 119,
     "metadata": {},
     "output_type": "execute_result"
    }
   ],
   "source": [
    "from sklearn.linear_model import Lasso\n",
    "lasso_reg = Lasso(alpha=0.1)\n",
    "lasso_reg.fit(x,y)\n",
    "lasso_reg.predict([[1.5]])"
   ]
  },
  {
   "cell_type": "markdown",
   "metadata": {},
   "source": [
    "#### Elastic Net"
   ]
  },
  {
   "cell_type": "markdown",
   "metadata": {},
   "source": [
    "####### Elastic Net is a middle ground between Ridge Regression and Lasso Regression. The regularization term is a simple mix of both Ridge and Lasso’s regularization terms, and you can control the mix ratio r. \n",
    "####### When r = 0, Elastic Net is equivalent to Ridge Regression, and when r = 1, it is equivalent to Lasso Regression\n",
    "\n",
    "####### Elastic Net cost function is     J(θ) = MSE(θ) + rαc|θi| + (1-r/2)α∑θi^2    for i= 1...n\n",
    "\n",
    "####### Example using Scikit-Learn’s ElasticNet"
   ]
  },
  {
   "cell_type": "code",
   "execution_count": 120,
   "metadata": {},
   "outputs": [
    {
     "data": {
      "text/plain": [
       "array([5.31968447])"
      ]
     },
     "execution_count": 120,
     "metadata": {},
     "output_type": "execute_result"
    }
   ],
   "source": [
    "from sklearn.linear_model import ElasticNet\n",
    "elastic_net = ElasticNet(alpha=0.1, l1_ratio=0.5) ### l1_ratio corresponds to the mix ratio r\n",
    "elastic_net.fit(x, y)\n",
    "elastic_net.predict([[1.5]])"
   ]
  },
  {
   "cell_type": "markdown",
   "metadata": {},
   "source": [
    "####### when should you use plain Linear Regression (i.e., without any regularization), Ridge, Lasso, or Elastic Net?\n",
    "####### It is almost always preferable to have at least a little bit of regularization, generally avoid plain Linear Regression\n",
    "####### Ridge is a good default\n",
    "####### if you suspect that only a few features are actually useful, you should prefer Lasso or Elastic Net since they tend to reduce the useless features’ weights down to zero as we have discussed.\n",
    "####### In general, Elastic Net is preferred over Lasso since Lasso may behave erratically when the number of features is greater than the number of training instances or when several features are strongly correlated."
   ]
  },
  {
   "cell_type": "markdown",
   "metadata": {},
   "source": [
    "#### Early Stopping"
   ]
  },
  {
   "cell_type": "markdown",
   "metadata": {},
   "source": [
    "####### Another way to regularize iterative learning algorithms such as Gradient Descent is to stop training as soon as the validation error reaches a minimum. This is called early stopping.\n",
    "\n",
    "####### As the epochs go by, the algorithm learns and its prediction error (RMSE) on the training set naturally goes down, and so does its prediction error on the validation set.\n",
    "####### after a while the validation error stops decreasing and actually starts to go back up, indicates that the model has started to overfit the training data\n",
    "####### With early stopping you just stop training as soon as the validation error reaches the minimum."
   ]
  },
  {
   "cell_type": "markdown",
   "metadata": {},
   "source": [
    "## Logistic Regression"
   ]
  },
  {
   "cell_type": "markdown",
   "metadata": {},
   "source": [
    "####### Logistic Regression (also called Logit Regression) is commonly used to estimate the probability that an instance belongs to a particular class.\n",
    "####### e.g., what is the probability that this email is spam?\n",
    "####### If the estimated probability is greater than 50%, then the model predicts that the instance belongs\n",
    "to that class (called the positive class, labeled “1”),\n",
    "####### or else it predicts that it does not (i.e., it belongs to the negative class, labeled “0”). This makes it a binary classifier."
   ]
  },
  {
   "cell_type": "markdown",
   "metadata": {},
   "source": [
    "#### Estimating Probabilities\n",
    "\n",
    "####### Like a Linear Regression model, a Logistic Regression model computes a weighted sum of the input features (plus a bias term), but instead of outputting the result directly like the Linear Regression model does, it outputs the logistic of result.\n",
    "\n",
    "####### The logistic also called the logit (noted σ(·))is a sigmoid function (i.e., S-shaped) that outputs a\n",
    "number between 0 and 1. It is defined as\n",
    "########                          σ(t) = 1/(1 + e^(-t))        e -> exponential\n",
    "\n",
    "####### Logistic Regression model estimated probability (vectorized form)\n",
    "\n",
    "#######                           p^ = σ(θ^T. X)           X -> is Input features , θ -> is weights of Input features\n",
    "\n",
    "####### Once the Logistic Regression model has estimated the probability p^ that an instance x belongs to the positive class, it can make its prediction ŷ easily. \n",
    "\n",
    "#######                           ŷ = 0, if p^ < 0.5  OR    ŷ = 1, if p^ >= 0.5\n",
    "\n",
    "####### Notice that σ(t) < 0.5 is when t < 0, and σ(t) ≥ 0.5 is when t ≥ 0\n",
    "####### So Logistic Regression model predicts 1 if (θ^T · X) is positive, and 0 if (θ^T · X) is negative."
   ]
  },
  {
   "cell_type": "markdown",
   "metadata": {},
   "source": [
    "#### Training and Cost Function\n",
    "\n",
    "####### The objective of training is to set the parameter vector θ so that the model estimates high probabilities for positive instances (y = 1) and low probabilities for negative instances (y = 0). \n",
    "####### This idea is captured by the cost function of single training instance\n",
    "#######                  c(θ) = - log(p^) if y = 1    OR    - log(1 - p^) if y = 0\n",
    "\n",
    "####### AS –log(t) grows very large when t approaches 0, so the cost will be large if the model estimates a probability close to 0 for a positive instance, and it will also be very large if the model estimates a probability close to 1 for a negative instance.\n",
    "####### –log(t) is close to 0 when t is close to 1, so the cost will be close to 0 if the estimated probability is close to 0 for a negative instance or close to 1 for a positive instance.\n",
    "\n",
    "####### The cost function over the whole training set is simply the average cost over all training instances. It can\n",
    "be written in a single expression called the log loss.\n",
    "\n",
    "#######            J(θ) = -(1/m)∑[( Y(i) x log(P(i)^) ) + ( (1-Y(i)) x log(1-P(i)^) )]"
   ]
  },
  {
   "cell_type": "markdown",
   "metadata": {},
   "source": [
    "#### Decision Boundaries\n",
    "\n",
    "####### Let’s use the iris dataset that contains the sepal and petal length and width of 150 iris flowers of three different species: Iris-Setosa, Iris-Versicolor, and Iris-Virginica to illustrate Logistic Regression to build a classifier that detect the Iris-Virginica type based only on the petal width feature"
   ]
  },
  {
   "cell_type": "code",
   "execution_count": 129,
   "metadata": {},
   "outputs": [
    {
     "data": {
      "text/plain": [
       "['data', 'target', 'target_names', 'DESCR', 'feature_names', 'filename']"
      ]
     },
     "execution_count": 129,
     "metadata": {},
     "output_type": "execute_result"
    }
   ],
   "source": [
    "from sklearn import datasets\n",
    "iris = datasets.load_iris()\n",
    "list(iris.keys())"
   ]
  },
  {
   "cell_type": "code",
   "execution_count": 134,
   "metadata": {},
   "outputs": [],
   "source": [
    "x = iris[\"data\"][:, 3:]  ### petal width\n",
    "y = (iris[\"target\"] == 2).astype(int)"
   ]
  },
  {
   "cell_type": "code",
   "execution_count": 135,
   "metadata": {},
   "outputs": [
    {
     "name": "stderr",
     "output_type": "stream",
     "text": [
      "C:\\Users\\Satish\\Anaconda3\\lib\\site-packages\\sklearn\\linear_model\\logistic.py:432: FutureWarning: Default solver will be changed to 'lbfgs' in 0.22. Specify a solver to silence this warning.\n",
      "  FutureWarning)\n"
     ]
    },
    {
     "data": {
      "text/plain": [
       "LogisticRegression(C=1.0, class_weight=None, dual=False, fit_intercept=True,\n",
       "                   intercept_scaling=1, l1_ratio=None, max_iter=100,\n",
       "                   multi_class='warn', n_jobs=None, penalty='l2',\n",
       "                   random_state=None, solver='warn', tol=0.0001, verbose=0,\n",
       "                   warm_start=False)"
      ]
     },
     "execution_count": 135,
     "metadata": {},
     "output_type": "execute_result"
    }
   ],
   "source": [
    "from sklearn.linear_model import LogisticRegression\n",
    "log_reg = LogisticRegression()\n",
    "log_reg.fit(x, y)"
   ]
  },
  {
   "cell_type": "code",
   "execution_count": 139,
   "metadata": {},
   "outputs": [],
   "source": [
    "x_new = np.linspace(0,3,1000).reshape(-1,1)\n",
    "# x_new\n",
    "y_proba = log_reg.predict_proba(x_new)\n",
    "# y_proba"
   ]
  },
  {
   "cell_type": "markdown",
   "metadata": {},
   "source": [
    "####### Let’s check at the model’s estimated probabilities for flowers with petal widths varying from 0 to 3 cm"
   ]
  },
  {
   "cell_type": "code",
   "execution_count": 141,
   "metadata": {},
   "outputs": [
    {
     "data": {
      "image/png": "[encoded data removed]",
      "text/plain": [
       "<Figure size 576x216 with 1 Axes>"
      ]
     },
     "metadata": {
      "needs_background": "light"
     },
     "output_type": "display_data"
    }
   ],
   "source": [
    "\n",
    "decision_boundary = x_new[y_proba[:, 1] >= 0.5][0]\n",
    "\n",
    "plt.figure(figsize=(8, 3))\n",
    "plt.plot(x[y==0], y[y==0], \"bs\")\n",
    "plt.plot(x[y==1], y[y==1], \"g^\")\n",
    "plt.plot([decision_boundary, decision_boundary], [-1, 2], \"k:\", linewidth=2)\n",
    "plt.plot(x_new, y_proba[:, 1], \"g-\", linewidth=2, label=\"Iris-Virginica\")\n",
    "plt.plot(x_new, y_proba[:, 0], \"b--\", linewidth=2, label=\"Not Iris-Virginica\")\n",
    "plt.text(decision_boundary+0.02, 0.15, \"Decision  boundary\", fontsize=14, color=\"k\", ha=\"center\")\n",
    "plt.arrow(decision_boundary, 0.08, -0.3, 0, head_width=0.05, head_length=0.1, fc='b', ec='b')\n",
    "plt.arrow(decision_boundary, 0.92, 0.3, 0, head_width=0.05, head_length=0.1, fc='g', ec='g')\n",
    "plt.xlabel(\"Petal width (cm)\", fontsize=14)\n",
    "plt.ylabel(\"Probability\", fontsize=14)\n",
    "plt.legend(loc=\"center left\", fontsize=14)\n",
    "plt.axis([0, 3, -0.02, 1.02])\n",
    "plt.show()"
   ]
  },
  {
   "cell_type": "markdown",
   "metadata": {},
   "source": [
    "####### The petal width of Iris-Virginica flowers (represented by triangles) ranges from 1.4 cm to 2.5 cm, while the other iris flowers (represented by squares) generally have a smaller petal width, ranging from 0.1 cm to 1.8 cm. ####### Above about 2 cm the classifier is highly confident that the flower is an Iris-Virginica (it outputs a high probability to that class), while below 1 cm it is highly confident that it is not an Iris-Virginica (high probability for the “Not Iris-Virginica” class). \n",
    "####### In between there is a bit of overlap where the classifier is unsure. However, to predict the class (using the predict() method rather than the predict_proba() method), it will return whichever class is the most likely.\n",
    "####### Therefore, there is a decision boundary at around 1.6 cm where both probabilities are equal to 50%: if the petal width is higher than 1.6 cm, the classifier will predict that the flower is an Iris-Virginica, or else it will predict that it is not"
   ]
  },
  {
   "cell_type": "markdown",
   "metadata": {},
   "source": [
    "####### The trained Logistic Regression classifier can estimate the probability that a new flower is an Iris-\n",
    "Virginica based on these two features petal width and length"
   ]
  },
  {
   "cell_type": "code",
   "execution_count": 144,
   "metadata": {},
   "outputs": [
    {
     "data": {
      "text/plain": [
       "array([1, 0])"
      ]
     },
     "execution_count": 144,
     "metadata": {},
     "output_type": "execute_result"
    }
   ],
   "source": [
    "log_reg.predict([[1.7], [1.5]]) ### petal width and length"
   ]
  },
  {
   "cell_type": "code",
   "execution_count": 145,
   "metadata": {},
   "outputs": [
    {
     "data": {
      "text/plain": [
       "array([0, 0])"
      ]
     },
     "execution_count": 145,
     "metadata": {},
     "output_type": "execute_result"
    }
   ],
   "source": [
    "log_reg.predict([[1.2], [1.5]])"
   ]
  },
  {
   "cell_type": "markdown",
   "metadata": {},
   "source": [
    "### Softmax Regression"
   ]
  },
  {
   "cell_type": "markdown",
   "metadata": {},
   "source": [
    "####### The Logistic Regression model can be generalized to support multiple classes directly, without having to\n",
    "train and combine multiple binary classifiers. This is called Softmax Regression, or Multinomial Logistic Regression.\n",
    "####### when given an instance x, the Softmax Regression model first computes a score Sk(x) for each class k\n",
    "####### then estimates the probability of each class by applying the softmax function (also called normalized exponential) to the scores\n",
    "####### The equation to compute sk(x) look familiar to the equation for Linear Regression prediction.\n",
    "\n",
    "#######                      Sk(X) = ((θ^k)^T · X)       each class has its own dedicated parameter vector (θ^k)\n",
    "\n",
    "####### Once computed the score of every class for the instance x\n",
    "####### Then estimate the probability Ṕk that the instance belongs to class k by running the scores through the softmax function. it computes the exponential of every score, then normalizes them by dividing the sum of all the\n",
    "exponentials.\n",
    "#######                      Ṕk = σ(S(X))k = exp(Sk(X)) / ∑ exp(Sj(X))   for j = 1...n\n",
    "####### K is the number of classes\n",
    "####### S(x) is a vector containing the scores of each class for the instance x. is the number of classes\n",
    "####### σ(S(X))k is the estimated probability that the instance x belongs to class k given the scores of each class for that instance.\n",
    "\n",
    "####### Just like the Logistic Regression classifier, the Softmax Regression classifier predicts the class with the\n",
    "highest estimated probability (which is simply the class with the highest score)\n",
    "#######                Ŷ = argmax σ(S(X))k = argmax Sk(X) = argmax ((θ^k)^T · X)\n",
    "####### The argmax operator returns the value of a variable that maximizes a function. In this equation, it\n",
    "returns the value of k that maximizes the estimated probability σ(s(x))k."
   ]
  },
  {
   "cell_type": "markdown",
   "metadata": {},
   "source": [
    "#### Cross Entropy"
   ]
  },
  {
   "cell_type": "markdown",
   "metadata": {},
   "source": [
    "####### The objective is to have a model that estimates a high probability for the target class and consequently a low probability for the other classes by minimizing the cost function.\n",
    "####### Cross Entropy lead to this objective as it penalizes the model when it estimates a low probability for a target class.\n",
    "#######                                                   m   k \n",
    "####### Cross Entropy cost function is      J(θ) = -(1/m) ∑   ∑  Yk^(i) log(Ṕk^(i))  \n",
    "#######                                                   i=1 k=1                    \n",
    "\n",
    "####### Yk^(i) is equal to 1 if the target class for the ith instance is k; otherwise, it is equal to 0"
   ]
  },
  {
   "cell_type": "markdown",
   "metadata": {},
   "source": [
    "####### Let’s use Softmax Regression to classify the iris flowers into all three classes"
   ]
  },
  {
   "cell_type": "code",
   "execution_count": 149,
   "metadata": {},
   "outputs": [],
   "source": [
    "x = iris[\"data\"][:,(2,3)] #### Petal length and width\n",
    "y = iris[\"target\"]"
   ]
  },
  {
   "cell_type": "markdown",
   "metadata": {},
   "source": [
    "####### Scikit-Learn’s LogisticRegression uses one-versus-all by default when you train it on more than two classes set the multi_class hyperparameter to \"multinomial\" to switch it to Softmax Regression.\n",
    "####### Specify a solver that supports Softmax Regression as the \"lbfgs\" solver.\n",
    "####### It also applies ℓ2 regularization by default, which can control be using the hyperparameter C"
   ]
  },
  {
   "cell_type": "code",
   "execution_count": 150,
   "metadata": {},
   "outputs": [
    {
     "data": {
      "text/plain": [
       "LogisticRegression(C=10, class_weight=None, dual=False, fit_intercept=True,\n",
       "                   intercept_scaling=1, l1_ratio=None, max_iter=100,\n",
       "                   multi_class='multinomial', n_jobs=None, penalty='l2',\n",
       "                   random_state=None, solver='lbfgs', tol=0.0001, verbose=0,\n",
       "                   warm_start=False)"
      ]
     },
     "execution_count": 150,
     "metadata": {},
     "output_type": "execute_result"
    }
   ],
   "source": [
    "softmax_reg = LogisticRegression(multi_class=\"multinomial\", solver=\"lbfgs\", C=10)\n",
    "softmax_reg.fit(x,y)"
   ]
  },
  {
   "cell_type": "code",
   "execution_count": 157,
   "metadata": {},
   "outputs": [
    {
     "data": {
      "text/plain": [
       "array([0, 1, 2])"
      ]
     },
     "execution_count": 157,
     "metadata": {},
     "output_type": "execute_result"
    }
   ],
   "source": [
    "softmax_reg.classes_"
   ]
  },
  {
   "cell_type": "code",
   "execution_count": 158,
   "metadata": {},
   "outputs": [
    {
     "data": {
      "text/plain": [
       "array([2])"
      ]
     },
     "execution_count": 158,
     "metadata": {},
     "output_type": "execute_result"
    }
   ],
   "source": [
    "softmax_reg.predict([[5, 2]]) ## iris with 5 cm long and 2 cm wide petals"
   ]
  },
  {
   "cell_type": "code",
   "execution_count": 159,
   "metadata": {},
   "outputs": [
    {
     "data": {
      "text/plain": [
       "array([[6.38014896e-07, 5.74929995e-02, 9.42506362e-01]])"
      ]
     },
     "execution_count": 159,
     "metadata": {},
     "output_type": "execute_result"
    }
   ],
   "source": [
    "softmax_reg.predict_proba([[5, 2]]) "
   ]
  },
  {
   "cell_type": "markdown",
   "metadata": {},
   "source": [
    "####### Model predict the new data with class 2 (Iris-Virginica) with 94.25%"
   ]
  }
 ],
 "metadata": {
  "kernelspec": {
   "display_name": "Python 3",
   "language": "python",
   "name": "python3"
  },
  "language_info": {
   "codemirror_mode": {
    "name": "ipython",
    "version": 3
   },
   "file_extension": ".py",
   "mimetype": "text/x-python",
   "name": "python",
   "nbconvert_exporter": "python",
   "pygments_lexer": "ipython3",
   "version": "3.6.5"
  }
 },
 "nbformat": 4,
 "nbformat_minor": 2
}
